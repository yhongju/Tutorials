{
 "cells": [
  {
   "cell_type": "code",
   "execution_count": 1,
   "metadata": {},
   "outputs": [],
   "source": [
    "import pandas as pd"
   ]
  },
  {
   "cell_type": "code",
   "execution_count": 4,
   "metadata": {},
   "outputs": [
    {
     "name": "stdout",
     "output_type": "stream",
     "text": [
      "<class 'pandas.core.frame.DataFrame'>\n",
      "RangeIndex: 13580 entries, 0 to 13579\n",
      "Data columns (total 21 columns):\n",
      " #   Column         Non-Null Count  Dtype  \n",
      "---  ------         --------------  -----  \n",
      " 0   Suburb         13580 non-null  object \n",
      " 1   Address        13580 non-null  object \n",
      " 2   Rooms          13580 non-null  int64  \n",
      " 3   Type           13580 non-null  object \n",
      " 4   Price          13580 non-null  float64\n",
      " 5   Method         13580 non-null  object \n",
      " 6   SellerG        13580 non-null  object \n",
      " 7   Date           13580 non-null  object \n",
      " 8   Distance       13580 non-null  float64\n",
      " 9   Postcode       13580 non-null  float64\n",
      " 10  Bedroom2       13580 non-null  float64\n",
      " 11  Bathroom       13580 non-null  float64\n",
      " 12  Car            13518 non-null  float64\n",
      " 13  Landsize       13580 non-null  float64\n",
      " 14  BuildingArea   7130 non-null   float64\n",
      " 15  YearBuilt      8205 non-null   float64\n",
      " 16  CouncilArea    12211 non-null  object \n",
      " 17  Lattitude      13580 non-null  float64\n",
      " 18  Longtitude     13580 non-null  float64\n",
      " 19  Regionname     13580 non-null  object \n",
      " 20  Propertycount  13580 non-null  float64\n",
      "dtypes: float64(12), int64(1), object(8)\n",
      "memory usage: 2.2+ MB\n"
     ]
    }
   ],
   "source": [
    "base_path = \"./dataset/\"\n",
    "melbourne_data = pd.read_csv(base_path + \"melbourne-housing-snapshot.csv\")\n",
    "melbourne_data.info()"
   ]
  },
  {
   "cell_type": "code",
   "execution_count": 5,
   "metadata": {},
   "outputs": [],
   "source": [
    "y = melbourne_data.Price"
   ]
  },
  {
   "cell_type": "code",
   "execution_count": 8,
   "metadata": {},
   "outputs": [
    {
     "name": "stdout",
     "output_type": "stream",
     "text": [
      "<class 'pandas.core.frame.DataFrame'>\n",
      "RangeIndex: 13580 entries, 0 to 13579\n",
      "Data columns (total 13 columns):\n",
      " #   Column         Non-Null Count  Dtype  \n",
      "---  ------         --------------  -----  \n",
      " 0   Rooms          13580 non-null  int64  \n",
      " 1   Price          13580 non-null  float64\n",
      " 2   Distance       13580 non-null  float64\n",
      " 3   Postcode       13580 non-null  float64\n",
      " 4   Bedroom2       13580 non-null  float64\n",
      " 5   Bathroom       13580 non-null  float64\n",
      " 6   Car            13518 non-null  float64\n",
      " 7   Landsize       13580 non-null  float64\n",
      " 8   BuildingArea   7130 non-null   float64\n",
      " 9   YearBuilt      8205 non-null   float64\n",
      " 10  Lattitude      13580 non-null  float64\n",
      " 11  Longtitude     13580 non-null  float64\n",
      " 12  Propertycount  13580 non-null  float64\n",
      "dtypes: float64(12), int64(1)\n",
      "memory usage: 1.3 MB\n"
     ]
    }
   ],
   "source": [
    "ex_obj = melbourne_data.select_dtypes(exclude=\"object\")\n",
    "ex_obj.info()"
   ]
  },
  {
   "cell_type": "code",
   "execution_count": 9,
   "metadata": {},
   "outputs": [],
   "source": [
    "X = ex_obj"
   ]
  },
  {
   "cell_type": "code",
   "execution_count": 11,
   "metadata": {},
   "outputs": [],
   "source": [
    "from sklearn.model_selection import train_test_split"
   ]
  },
  {
   "cell_type": "code",
   "execution_count": 12,
   "metadata": {},
   "outputs": [],
   "source": [
    "train_X, val_X, train_y, val_y = train_test_split(X, y, train_size=0.8, random_state=42)"
   ]
  },
  {
   "cell_type": "code",
   "execution_count": 14,
   "metadata": {},
   "outputs": [],
   "source": [
    "from sklearn.ensemble import RandomForestRegressor\n",
    "from sklearn.metrics import mean_absolute_error"
   ]
  },
  {
   "cell_type": "code",
   "execution_count": 32,
   "metadata": {},
   "outputs": [],
   "source": [
    "def score_dataset(missings: list, train_X, val_X, train_y, val_y):\n",
    "    # I didn't naming it.\n",
    "    model = RandomForestRegressor(random_state=42)\n",
    "    model.fit(train_X, train_y)\n",
    "    pred = model.predict(val_X)\n",
    "    mae = mean_absolute_error(val_y, pred)\n",
    "    return mae"
   ]
  },
  {
   "cell_type": "code",
   "execution_count": 41,
   "metadata": {},
   "outputs": [
    {
     "data": {
      "text/plain": [
       "341.82539027982307"
      ]
     },
     "execution_count": 41,
     "metadata": {},
     "output_type": "execute_result"
    }
   ],
   "source": [
    "score_dataset([], train_X.dropna(axis=1), val_X.dropna(axis=1), train_y, val_y)"
   ]
  },
  {
   "cell_type": "code",
   "execution_count": 56,
   "metadata": {},
   "outputs": [
    {
     "data": {
      "text/plain": [
       "['Car', 'BuildingArea', 'YearBuilt']"
      ]
     },
     "execution_count": 56,
     "metadata": {},
     "output_type": "execute_result"
    }
   ],
   "source": [
    "cols_contain_miss = [col for col in train_X.columns if train_X[col].isna().any()]\n",
    "cols_contain_miss"
   ]
  },
  {
   "cell_type": "code",
   "execution_count": 59,
   "metadata": {},
   "outputs": [
    {
     "data": {
      "text/html": [
       "<div>\n",
       "<style scoped>\n",
       "    .dataframe tbody tr th:only-of-type {\n",
       "        vertical-align: middle;\n",
       "    }\n",
       "\n",
       "    .dataframe tbody tr th {\n",
       "        vertical-align: top;\n",
       "    }\n",
       "\n",
       "    .dataframe thead th {\n",
       "        text-align: right;\n",
       "    }\n",
       "</style>\n",
       "<table border=\"1\" class=\"dataframe\">\n",
       "  <thead>\n",
       "    <tr style=\"text-align: right;\">\n",
       "      <th></th>\n",
       "      <th>Rooms</th>\n",
       "      <th>Price</th>\n",
       "      <th>Distance</th>\n",
       "      <th>Postcode</th>\n",
       "      <th>Bedroom2</th>\n",
       "      <th>Bathroom</th>\n",
       "      <th>Landsize</th>\n",
       "      <th>Lattitude</th>\n",
       "      <th>Longtitude</th>\n",
       "      <th>Propertycount</th>\n",
       "    </tr>\n",
       "  </thead>\n",
       "  <tbody>\n",
       "    <tr>\n",
       "      <th>12796</th>\n",
       "      <td>4</td>\n",
       "      <td>1480000.0</td>\n",
       "      <td>14.2</td>\n",
       "      <td>3149.0</td>\n",
       "      <td>4.0</td>\n",
       "      <td>2.0</td>\n",
       "      <td>695.0</td>\n",
       "      <td>-37.86127</td>\n",
       "      <td>145.14271</td>\n",
       "      <td>13366.0</td>\n",
       "    </tr>\n",
       "    <tr>\n",
       "      <th>9642</th>\n",
       "      <td>3</td>\n",
       "      <td>1530000.0</td>\n",
       "      <td>14.2</td>\n",
       "      <td>3149.0</td>\n",
       "      <td>3.0</td>\n",
       "      <td>1.0</td>\n",
       "      <td>810.0</td>\n",
       "      <td>-37.86838</td>\n",
       "      <td>145.14664</td>\n",
       "      <td>13366.0</td>\n",
       "    </tr>\n",
       "    <tr>\n",
       "      <th>3207</th>\n",
       "      <td>2</td>\n",
       "      <td>690000.0</td>\n",
       "      <td>4.6</td>\n",
       "      <td>3122.0</td>\n",
       "      <td>2.0</td>\n",
       "      <td>1.0</td>\n",
       "      <td>82.0</td>\n",
       "      <td>-37.81800</td>\n",
       "      <td>145.02680</td>\n",
       "      <td>11308.0</td>\n",
       "    </tr>\n",
       "    <tr>\n",
       "      <th>1698</th>\n",
       "      <td>2</td>\n",
       "      <td>570000.0</td>\n",
       "      <td>3.2</td>\n",
       "      <td>3054.0</td>\n",
       "      <td>2.0</td>\n",
       "      <td>1.0</td>\n",
       "      <td>0.0</td>\n",
       "      <td>-37.79020</td>\n",
       "      <td>144.97000</td>\n",
       "      <td>3106.0</td>\n",
       "    </tr>\n",
       "    <tr>\n",
       "      <th>761</th>\n",
       "      <td>4</td>\n",
       "      <td>1041000.0</td>\n",
       "      <td>13.0</td>\n",
       "      <td>3204.0</td>\n",
       "      <td>4.0</td>\n",
       "      <td>2.0</td>\n",
       "      <td>292.0</td>\n",
       "      <td>-37.91480</td>\n",
       "      <td>145.02430</td>\n",
       "      <td>6795.0</td>\n",
       "    </tr>\n",
       "    <tr>\n",
       "      <th>...</th>\n",
       "      <td>...</td>\n",
       "      <td>...</td>\n",
       "      <td>...</td>\n",
       "      <td>...</td>\n",
       "      <td>...</td>\n",
       "      <td>...</td>\n",
       "      <td>...</td>\n",
       "      <td>...</td>\n",
       "      <td>...</td>\n",
       "      <td>...</td>\n",
       "    </tr>\n",
       "    <tr>\n",
       "      <th>5191</th>\n",
       "      <td>3</td>\n",
       "      <td>851500.0</td>\n",
       "      <td>11.2</td>\n",
       "      <td>3073.0</td>\n",
       "      <td>3.0</td>\n",
       "      <td>1.0</td>\n",
       "      <td>0.0</td>\n",
       "      <td>-37.72170</td>\n",
       "      <td>144.99540</td>\n",
       "      <td>21650.0</td>\n",
       "    </tr>\n",
       "    <tr>\n",
       "      <th>13418</th>\n",
       "      <td>2</td>\n",
       "      <td>1400000.0</td>\n",
       "      <td>3.6</td>\n",
       "      <td>3068.0</td>\n",
       "      <td>2.0</td>\n",
       "      <td>1.0</td>\n",
       "      <td>164.0</td>\n",
       "      <td>-37.77796</td>\n",
       "      <td>144.98374</td>\n",
       "      <td>6244.0</td>\n",
       "    </tr>\n",
       "    <tr>\n",
       "      <th>5390</th>\n",
       "      <td>3</td>\n",
       "      <td>975000.0</td>\n",
       "      <td>2.6</td>\n",
       "      <td>3121.0</td>\n",
       "      <td>3.0</td>\n",
       "      <td>1.0</td>\n",
       "      <td>383.0</td>\n",
       "      <td>-37.82480</td>\n",
       "      <td>144.99760</td>\n",
       "      <td>14949.0</td>\n",
       "    </tr>\n",
       "    <tr>\n",
       "      <th>860</th>\n",
       "      <td>2</td>\n",
       "      <td>722000.0</td>\n",
       "      <td>13.9</td>\n",
       "      <td>3165.0</td>\n",
       "      <td>2.0</td>\n",
       "      <td>2.0</td>\n",
       "      <td>201.0</td>\n",
       "      <td>-37.92930</td>\n",
       "      <td>145.06570</td>\n",
       "      <td>10969.0</td>\n",
       "    </tr>\n",
       "    <tr>\n",
       "      <th>7270</th>\n",
       "      <td>3</td>\n",
       "      <td>860000.0</td>\n",
       "      <td>8.2</td>\n",
       "      <td>3012.0</td>\n",
       "      <td>3.0</td>\n",
       "      <td>1.0</td>\n",
       "      <td>501.0</td>\n",
       "      <td>-37.79120</td>\n",
       "      <td>144.86800</td>\n",
       "      <td>5058.0</td>\n",
       "    </tr>\n",
       "  </tbody>\n",
       "</table>\n",
       "<p>10864 rows × 10 columns</p>\n",
       "</div>"
      ],
      "text/plain": [
       "       Rooms      Price  Distance  Postcode  Bedroom2  Bathroom  Landsize  \\\n",
       "12796      4  1480000.0      14.2    3149.0       4.0       2.0     695.0   \n",
       "9642       3  1530000.0      14.2    3149.0       3.0       1.0     810.0   \n",
       "3207       2   690000.0       4.6    3122.0       2.0       1.0      82.0   \n",
       "1698       2   570000.0       3.2    3054.0       2.0       1.0       0.0   \n",
       "761        4  1041000.0      13.0    3204.0       4.0       2.0     292.0   \n",
       "...      ...        ...       ...       ...       ...       ...       ...   \n",
       "5191       3   851500.0      11.2    3073.0       3.0       1.0       0.0   \n",
       "13418      2  1400000.0       3.6    3068.0       2.0       1.0     164.0   \n",
       "5390       3   975000.0       2.6    3121.0       3.0       1.0     383.0   \n",
       "860        2   722000.0      13.9    3165.0       2.0       2.0     201.0   \n",
       "7270       3   860000.0       8.2    3012.0       3.0       1.0     501.0   \n",
       "\n",
       "       Lattitude  Longtitude  Propertycount  \n",
       "12796  -37.86127   145.14271        13366.0  \n",
       "9642   -37.86838   145.14664        13366.0  \n",
       "3207   -37.81800   145.02680        11308.0  \n",
       "1698   -37.79020   144.97000         3106.0  \n",
       "761    -37.91480   145.02430         6795.0  \n",
       "...          ...         ...            ...  \n",
       "5191   -37.72170   144.99540        21650.0  \n",
       "13418  -37.77796   144.98374         6244.0  \n",
       "5390   -37.82480   144.99760        14949.0  \n",
       "860    -37.92930   145.06570        10969.0  \n",
       "7270   -37.79120   144.86800         5058.0  \n",
       "\n",
       "[10864 rows x 10 columns]"
      ]
     },
     "execution_count": 59,
     "metadata": {},
     "output_type": "execute_result"
    }
   ],
   "source": [
    "without_miss_cols = train_X.drop(cols_contain_miss, axis=1)\n",
    "without_miss_cols"
   ]
  },
  {
   "cell_type": "code",
   "execution_count": 62,
   "metadata": {},
   "outputs": [],
   "source": [
    "train_X_red = train_X.drop(cols_contain_miss, axis=1)\n",
    "val_X_red = val_X.drop(cols_contain_miss, axis=1)"
   ]
  },
  {
   "cell_type": "code",
   "execution_count": 63,
   "metadata": {},
   "outputs": [
    {
     "name": "stdout",
     "output_type": "stream",
     "text": [
      "MAE from approach 1. (Drop columns contain missing):\n"
     ]
    },
    {
     "data": {
      "text/plain": [
       "341.82539027982307"
      ]
     },
     "execution_count": 63,
     "metadata": {},
     "output_type": "execute_result"
    }
   ],
   "source": [
    "print(f\"MAE from approach 1. (Drop columns contain missing):\")\n",
    "score_dataset([], train_X_red, val_X_red, train_y, val_y)"
   ]
  },
  {
   "cell_type": "code",
   "execution_count": 64,
   "metadata": {},
   "outputs": [],
   "source": [
    "from sklearn.impute import SimpleImputer"
   ]
  },
  {
   "cell_type": "code",
   "execution_count": 65,
   "metadata": {},
   "outputs": [],
   "source": [
    "s_imputer = SimpleImputer()\n",
    "train_X_imputed = pd.DataFrame(s_imputer.fit_transform(train_X))\n",
    "val_X_imputed = pd.DataFrame(s_imputer.transform(val_X))"
   ]
  },
  {
   "cell_type": "code",
   "execution_count": 68,
   "metadata": {},
   "outputs": [
    {
     "data": {
      "text/plain": [
       "((10864, 13), (10864, 13))"
      ]
     },
     "execution_count": 68,
     "metadata": {},
     "output_type": "execute_result"
    }
   ],
   "source": [
    "train_X.shape, train_X_imputed.shape"
   ]
  },
  {
   "cell_type": "code",
   "execution_count": 69,
   "metadata": {},
   "outputs": [
    {
     "data": {
      "text/plain": [
       "((2716, 13), (2716, 13))"
      ]
     },
     "execution_count": 69,
     "metadata": {},
     "output_type": "execute_result"
    }
   ],
   "source": [
    "val_X.shape, val_X_imputed.shape"
   ]
  },
  {
   "cell_type": "code",
   "execution_count": null,
   "metadata": {},
   "outputs": [],
   "source": []
  },
  {
   "cell_type": "code",
   "execution_count": null,
   "metadata": {},
   "outputs": [],
   "source": []
  }
 ],
 "metadata": {
  "kernelspec": {
   "display_name": "kaggle",
   "language": "python",
   "name": "python3"
  },
  "language_info": {
   "codemirror_mode": {
    "name": "ipython",
    "version": 3
   },
   "file_extension": ".py",
   "mimetype": "text/x-python",
   "name": "python",
   "nbconvert_exporter": "python",
   "pygments_lexer": "ipython3",
   "version": "3.8.15"
  },
  "orig_nbformat": 4,
  "vscode": {
   "interpreter": {
    "hash": "b0df191f5c4e036a052af4a19e7ff6d12567c45dacf73e71cd82aec529af37eb"
   }
  }
 },
 "nbformat": 4,
 "nbformat_minor": 2
}
